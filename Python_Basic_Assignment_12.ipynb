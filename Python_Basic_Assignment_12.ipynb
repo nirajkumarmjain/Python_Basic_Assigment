{
 "cells": [
  {
   "cell_type": "markdown",
   "id": "a13566d3",
   "metadata": {},
   "source": [
    "# Python_Basic_Assignment_12"
   ]
  },
  {
   "cell_type": "markdown",
   "id": "5728cb23",
   "metadata": {},
   "source": [
    "#### 1. In what modes should the PdfFileReader() and PdfFileWriter() File objects will be opened?\n",
    "`Solution: For PdfFileReader() use 'rb' mode and for PdfFileWriter() use 'wb' mode`"
   ]
  },
  {
   "cell_type": "markdown",
   "id": "7624e274",
   "metadata": {},
   "source": [
    "#### 2. From a PdfFileReader object, how do you get a Page object for page 5?\n",
    "`Solution:`"
   ]
  },
  {
   "cell_type": "code",
   "execution_count": null,
   "id": "d4f3fb69",
   "metadata": {},
   "outputs": [],
   "source": [
    "from PyPDF2 import PdfFileReader\n",
    "file_path ='Path of PDF file'\n",
    "pdf_reader = PdfFileReader(file_path)\n",
    "for page in pdf_reader.getNumPages():\n",
    "    pdf_reader.getPage(5)"
   ]
  },
  {
   "cell_type": "markdown",
   "id": "800d484c",
   "metadata": {},
   "source": [
    "#### 3. What PdfFileReader variable stores the number of pages in the PDF document?\n",
    "`Solution: getNumPages() method of PdfFileReader class stores the no pages in a PDF document`\n",
    "\n",
    "#### 4. If a PdfFileReader object’s PDF is encrypted with the password swordfish, what must you do before you can obtain Page objects from it?\n",
    "`Solution: We can use decrypt() method and pass the password 'swordfish' to read the file`"
   ]
  },
  {
   "cell_type": "markdown",
   "id": "111ce696",
   "metadata": {},
   "source": [
    "#### 5. What methods do you use to rotate a page?\n",
    "`Solution: We can use rotateClockWise() -> For Clockwise rotation & rotateCounterClockWise() -> For Counter Clockwise rotation`\n",
    "\n",
    "#### 6. What is the difference between a Run object and a Paragraph object?\n",
    "`Solution: The Document object contains a list of Paragraph objects for the paragraphs in the document. Each of these Paragraph objects contains a list of one or more Run objects.`\n",
    "\n",
    "#### 7. How do you obtain a list of Paragraph objects for a Document object that’s stored in a variable named doc?\n",
    "`Solution: `"
   ]
  },
  {
   "cell_type": "code",
   "execution_count": null,
   "id": "3f892226",
   "metadata": {},
   "outputs": [],
   "source": [
    "from docx import Document\n",
    "doc = Document(\"sample_file.docx\")\n",
    "for paragraph in doc.paragraphs:\n",
    "    print(paragraph.text)"
   ]
  },
  {
   "cell_type": "markdown",
   "id": "eabde11f",
   "metadata": {},
   "source": [
    "#### 8. What type of object has bold, underline, italic, strike, and outline variables?\n",
    "`Solution: Run object has bold, underline, italic, strike, and outline variables. `\n",
    "#### 9. What is the difference between False, True, and None for the bold variable?\n",
    "`Solution: bold=False -> Bold style is not set; bold=True -> Bold style is set; bold=None -> bold style not applicable`"
   ]
  },
  {
   "cell_type": "markdown",
   "id": "cdb61757",
   "metadata": {},
   "source": [
    "#### 10. How do you create a Document object for a new Word document?\n",
    "`Solution: `"
   ]
  },
  {
   "cell_type": "code",
   "execution_count": null,
   "id": "43c2b38b",
   "metadata": {},
   "outputs": [],
   "source": [
    "from docx import Document\n",
    "document = Document()\n",
    "document.add_paragraph(\"iNeuron offers variety of Courses at affordable cost\")\n",
    "document.save('mydocument.docx')"
   ]
  },
  {
   "cell_type": "markdown",
   "id": "7f01139f",
   "metadata": {},
   "source": [
    "#### 11. How do you add a paragraph with the text 'Hello, there!' to a Document object stored in a variable named doc?\n",
    "`Solution:` "
   ]
  },
  {
   "cell_type": "code",
   "execution_count": null,
   "id": "c32fcd14",
   "metadata": {},
   "outputs": [],
   "source": [
    "from docx import Document\n",
    "doc = Document()\n",
    "doc.add_paragraph('Hello, there!')\n",
    "doc.save('hello.docx')"
   ]
  },
  {
   "cell_type": "markdown",
   "id": "d0e3a2ff",
   "metadata": {},
   "source": [
    "#### 12. What integers represent the levels of headings available in Word documents?\n",
    "`Solution: level argument inside add_heading() method can be used and levels range between 0 and 4`"
   ]
  }
 ],
 "metadata": {
  "kernelspec": {
   "display_name": "Python 3",
   "language": "python",
   "name": "python3"
  },
  "language_info": {
   "codemirror_mode": {
    "name": "ipython",
    "version": 3
   },
   "file_extension": ".py",
   "mimetype": "text/x-python",
   "name": "python",
   "nbconvert_exporter": "python",
   "pygments_lexer": "ipython3",
   "version": "3.8.8"
  }
 },
 "nbformat": 4,
 "nbformat_minor": 5
}

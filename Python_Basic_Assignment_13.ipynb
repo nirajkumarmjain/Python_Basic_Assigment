{
 "cells": [
  {
   "cell_type": "markdown",
   "id": "18e32ef8",
   "metadata": {},
   "source": [
    "# Python_Basic_Assignment_13"
   ]
  },
  {
   "cell_type": "markdown",
   "id": "ed6e49d3",
   "metadata": {},
   "source": [
    "#### 1. What advantages do Excel spreadsheets have over CSV spreadsheets?\n",
    "`Solution: Excel files(xls & xlsx) are better for complex data and we can perform operations on data using formulas, macro's, whereas, csv files are just flat files and doesn't offer any data operations`\n",
    "\n",
    "#### 2.What do you pass to csv.reader() and csv.writer() to create reader and writer objects?\n",
    "`Solution: In csv.reader() & csv.writer() we can pass arguments like filename, delimiter`\n",
    "\n",
    "#### 3. What modes do File objects for reader and writer objects need to be opened in?\n",
    "`Solution: csv.reader() -> 'r'(read mode) ; csv.writer() -> 'w'(write mode)`\n",
    "\n",
    "#### 4. What method takes a list argument and writes it to a CSV file?\n",
    "`Solution: csv.writer() class offers writerow() method (for writing single row) and writerows() method (for writing multiple rows)`\n",
    "\n",
    "#### 5. What do the keyword arguments delimiter and line terminator do?\n",
    "`Solution: \n",
    "Delimiter(Usually ',') -> Is used to recognize individual column values in a row; \n",
    "terminator(Usually '\\n') -> Is used to recognize new row`\n",
    "\n",
    "#### 6. What function takes a string of JSON data and returns a Python data structure?\n",
    "`Solution: loads() method takes a string of JSON data and returns a Python data structure`"
   ]
  },
  {
   "cell_type": "code",
   "execution_count": 6,
   "id": "e52e359c",
   "metadata": {},
   "outputs": [
    {
     "name": "stdout",
     "output_type": "stream",
     "text": [
      "<class 'str'>\n",
      "{\"Company\":\"iNeuron\",\n",
      "            \"Course\": \"Full Stack Data science\"}\n",
      "<class 'dict'>\n",
      "{'Company': 'iNeuron', 'Course': 'Full Stack Data science'}\n"
     ]
    }
   ],
   "source": [
    "import json\n",
    "data = '''{\"Company\":\"iNeuron\",\n",
    "            \"Course\": \"Full Stack Data science\"}'''\n",
    "print(type(data))\n",
    "print(data)\n",
    "json_data = json.loads(data)\n",
    "print(type(json_data))\n",
    "print(json_data)"
   ]
  },
  {
   "cell_type": "markdown",
   "id": "2377e5bf",
   "metadata": {},
   "source": [
    "#### 7. What function takes a Python data structure and returns a string of JSON data?\n",
    "`Solution: dumps() method takes a python data structure and returns a string of JSON data`"
   ]
  },
  {
   "cell_type": "code",
   "execution_count": 15,
   "id": "6c48640f",
   "metadata": {},
   "outputs": [
    {
     "name": "stdout",
     "output_type": "stream",
     "text": [
      "<class 'dict'>\n",
      "{'Company': 'iNeuron', 'Course': 'Full Stack Data science'}\n",
      "<class 'str'>\n",
      "{\n",
      "  \"Company\": \"iNeuron\",\n",
      "  \"Course\": \"Full Stack Data science\"\n",
      "}\n"
     ]
    }
   ],
   "source": [
    "import json\n",
    "data = {'Company':'iNeuron',\n",
    "            'Course': 'Full Stack Data science'}\n",
    "print(type(data))\n",
    "print(data)\n",
    "json_data = json.dumps(data,indent=2)\n",
    "print(type(json_data))\n",
    "print(json_data)"
   ]
  }
 ],
 "metadata": {
  "kernelspec": {
   "display_name": "Python 3",
   "language": "python",
   "name": "python3"
  },
  "language_info": {
   "codemirror_mode": {
    "name": "ipython",
    "version": 3
   },
   "file_extension": ".py",
   "mimetype": "text/x-python",
   "name": "python",
   "nbconvert_exporter": "python",
   "pygments_lexer": "ipython3",
   "version": "3.8.8"
  }
 },
 "nbformat": 4,
 "nbformat_minor": 5
}

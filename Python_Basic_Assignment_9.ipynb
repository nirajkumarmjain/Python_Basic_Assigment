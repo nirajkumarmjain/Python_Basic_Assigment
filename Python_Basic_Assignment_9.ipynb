{
 "cells": [
  {
   "cell_type": "markdown",
   "id": "8c5a8ee3",
   "metadata": {},
   "source": [
    "# Python_Basic_Assignment_9"
   ]
  },
  {
   "cell_type": "markdown",
   "id": "59550705",
   "metadata": {},
   "source": [
    "#### 1.To what does a relative path refer ?\n",
    "`Solution: Relative path represents file with respect to current working directory(pwd). Absolute Path = PWD + Relative Path`"
   ]
  },
  {
   "cell_type": "markdown",
   "id": "fa068180",
   "metadata": {},
   "source": [
    "#### 2.Where does an absolute path start with your Operating System ?\n",
    "\n",
    "`Solution: In windows the absolute path starts with C: and in Linux it starts with /`"
   ]
  },
  {
   "cell_type": "markdown",
   "id": "e9a9303a",
   "metadata": {},
   "source": [
    "#### 3.What does the functions os.getcwd() and os.chdir() do ?\n",
    "`Solution: os.getcwd() command provides current/present working directory ,whereas, os.chdir() changes/moves to given input directory from present/current directory `"
   ]
  },
  {
   "cell_type": "markdown",
   "id": "35f14d30",
   "metadata": {},
   "source": [
    "#### 4. What are . and .. folders ?\n",
    "`Solution: . represents present/current working directory whereas .. represents parent working direcory`\n",
    "#### 5. In C:\\bacon\\eggs\\spam.txt which part is the dir name and which part is the base name ?\n",
    "`Solution: The dir name is C:\\\\bacon\\\\eggs and the base name is spam.txt`"
   ]
  },
  {
   "cell_type": "code",
   "execution_count": 1,
   "id": "437a2e87",
   "metadata": {},
   "outputs": [
    {
     "name": "stdout",
     "output_type": "stream",
     "text": [
      "C:\\bacon\\eggs\n",
      "spam.txt\n"
     ]
    }
   ],
   "source": [
    "import os\n",
    "path = r'C:\\bacon\\eggs\\spam.txt'\n",
    "print(os.path.dirname(path))\n",
    "print(os.path.basename(path))"
   ]
  },
  {
   "cell_type": "markdown",
   "id": "c49d9c04",
   "metadata": {},
   "source": [
    "#### 6.What are the three mode arguments that can be passed to the open() function ?\n",
    "`Solution: We can pass following modes: ‘r’ – Read Mode, ‘w’ – Write Mode, ‘r+’ – Read/Write Mode, ‘a’ – Append Mode, ‘a+’ – Append and Read Mode and ‘x’ – Exclusive Creating Mode`"
   ]
  },
  {
   "cell_type": "markdown",
   "id": "4fb6a47e",
   "metadata": {},
   "source": [
    "#### 7.What happens if an existing file is opened in write mode ?\n",
    "`Solution: This mode will overwrite any existing content in a file. If the given file does not exist, a new one will be created.`"
   ]
  },
  {
   "cell_type": "markdown",
   "id": "38e3709b",
   "metadata": {},
   "source": [
    "#### 8.How do you tell the difference between read() and readlines() ?\n",
    "`Solution: The read() would treat each character in the file separately, meaning that the iteration would happen for every character.\n",
    "\n",
    "The readline() function, on the other hand, only reads a single line of the file. This means that if the file file_1 were three lines long, the readline() function would only parse (or iterate/operate) on the first line of the file.`"
   ]
  },
  {
   "cell_type": "markdown",
   "id": "ce634e8c",
   "metadata": {},
   "source": [
    "#### 9.What data structure does a shelf value resemble ?\n",
    "`Solution: It resembles dictionary with key & value pairs`"
   ]
  },
  {
   "cell_type": "code",
   "execution_count": null,
   "id": "c0e347b9",
   "metadata": {},
   "outputs": [],
   "source": []
  }
 ],
 "metadata": {
  "kernelspec": {
   "display_name": "Python 3",
   "language": "python",
   "name": "python3"
  },
  "language_info": {
   "codemirror_mode": {
    "name": "ipython",
    "version": 3
   },
   "file_extension": ".py",
   "mimetype": "text/x-python",
   "name": "python",
   "nbconvert_exporter": "python",
   "pygments_lexer": "ipython3",
   "version": "3.8.8"
  }
 },
 "nbformat": 4,
 "nbformat_minor": 5
}

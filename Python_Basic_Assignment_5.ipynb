{
 "cells": [
  {
   "cell_type": "markdown",
   "id": "c641942a",
   "metadata": {},
   "source": [
    "# Python_Basic_Assignment_5"
   ]
  },
  {
   "cell_type": "markdown",
   "id": "0c2b11c8",
   "metadata": {},
   "source": [
    "#### 1.What does an empty dictionary's code look like?\n",
    "`Solution: Empty dictionary will have 2 curly braces`"
   ]
  },
  {
   "cell_type": "code",
   "execution_count": 1,
   "id": "1a755c97",
   "metadata": {},
   "outputs": [
    {
     "name": "stdout",
     "output_type": "stream",
     "text": [
      "d -> {}\n",
      "di -> {}\n"
     ]
    }
   ],
   "source": [
    "d = {}\n",
    "di = dict()\n",
    "print(\"d ->\",d)\n",
    "print(\"di ->\",di)"
   ]
  },
  {
   "cell_type": "markdown",
   "id": "678150a9",
   "metadata": {},
   "source": [
    "#### 2.what is the value of dictionary value with key 'foo' and the value 42 ?\n",
    "`Solution: {'foo':42}`"
   ]
  },
  {
   "cell_type": "code",
   "execution_count": 3,
   "id": "a5853996",
   "metadata": {},
   "outputs": [
    {
     "name": "stdout",
     "output_type": "stream",
     "text": [
      "d -> {'foo': 42}\n"
     ]
    }
   ],
   "source": [
    "d = {'foo':42}\n",
    "print(\"d ->\",d)"
   ]
  },
  {
   "cell_type": "markdown",
   "id": "3e5c49e7",
   "metadata": {},
   "source": [
    "#### 3.What is the most significant distinction between a dictionary and a list?\n",
    "`Solution: Dictionaries are represented by {} where as listed are represented by []\n",
    "The Items stored in a dictionary are Unordered , while the items in a list are ordered`"
   ]
  },
  {
   "cell_type": "markdown",
   "id": "b0858865",
   "metadata": {},
   "source": [
    "#### 4: What happens if you try to access spam ['foo'] if spam is {'bar':100} ?\n",
    "`Solution: We will get keyError`"
   ]
  },
  {
   "cell_type": "code",
   "execution_count": 4,
   "id": "e1d809a5",
   "metadata": {},
   "outputs": [
    {
     "ename": "KeyError",
     "evalue": "'foo'",
     "output_type": "error",
     "traceback": [
      "\u001b[1;31m---------------------------------------------------------------------------\u001b[0m",
      "\u001b[1;31mKeyError\u001b[0m                                  Traceback (most recent call last)",
      "\u001b[1;32m<ipython-input-4-cea1cd791e68>\u001b[0m in \u001b[0;36m<module>\u001b[1;34m\u001b[0m\n\u001b[0;32m      1\u001b[0m \u001b[0mspam\u001b[0m \u001b[1;33m=\u001b[0m \u001b[1;33m{\u001b[0m\u001b[1;34m'bar'\u001b[0m\u001b[1;33m:\u001b[0m\u001b[1;36m100\u001b[0m\u001b[1;33m}\u001b[0m\u001b[1;33m\u001b[0m\u001b[1;33m\u001b[0m\u001b[0m\n\u001b[1;32m----> 2\u001b[1;33m \u001b[0mspam\u001b[0m\u001b[1;33m[\u001b[0m\u001b[1;34m'foo'\u001b[0m\u001b[1;33m]\u001b[0m\u001b[1;33m\u001b[0m\u001b[1;33m\u001b[0m\u001b[0m\n\u001b[0m",
      "\u001b[1;31mKeyError\u001b[0m: 'foo'"
     ]
    }
   ],
   "source": [
    "spam = {'bar':100}\n",
    "spam['foo']"
   ]
  },
  {
   "cell_type": "markdown",
   "id": "15d84f52",
   "metadata": {},
   "source": [
    "#### 5. if a dictionary is stored in spam,what is the difference between the expressions 'cat' in spam and 'cat' in spam.keys() ?\n",
    "`Solution: There won't be any difference as both will check if value 'cat' exists in keys of dictionary`"
   ]
  },
  {
   "cell_type": "code",
   "execution_count": 12,
   "id": "e5a3f790",
   "metadata": {},
   "outputs": [
    {
     "name": "stdout",
     "output_type": "stream",
     "text": [
      "'cat' in spam ->  True\n",
      "'cat' in spam.keys() ->  True\n"
     ]
    }
   ],
   "source": [
    "spam = {'cat':'cat'}\n",
    "print(\"'cat' in spam -> \",'cat' in spam)\n",
    "print(\"'cat' in spam.keys() -> \",'cat' in spam.keys())"
   ]
  },
  {
   "cell_type": "markdown",
   "id": "32230566",
   "metadata": {},
   "source": [
    "#### 6.if a dictionary is stored in spam,what is the difference between the expressions 'cat' in spam and 'cat' in spam.values() ?\n",
    "`Solution: The expression 'cat' in spam will check if value exists in dictionary keys and 'cat' in spam.values() will check if value exists in dictionary values`"
   ]
  },
  {
   "cell_type": "code",
   "execution_count": 13,
   "id": "e5e49256",
   "metadata": {},
   "outputs": [
    {
     "name": "stdout",
     "output_type": "stream",
     "text": [
      "'cat' in spam ->  True\n",
      "'cat' in spam.values() ->  False\n"
     ]
    }
   ],
   "source": [
    "spam = {'cat':'cat_value'}\n",
    "print(\"'cat' in spam -> \",'cat' in spam)\n",
    "print(\"'cat' in spam.values() -> \",'cat' in spam.values()) "
   ]
  },
  {
   "cell_type": "markdown",
   "id": "eba2a441",
   "metadata": {},
   "source": [
    "#### 7.what is a shortcut for the following code ?\n",
    "if 'color' not in spam:\n",
    "\n",
    "    spam['color'] ='black'\n",
    "    \n",
    "`Solution: spam.setdefault('color','black')`"
   ]
  },
  {
   "cell_type": "code",
   "execution_count": 15,
   "id": "7d7dd3ec",
   "metadata": {},
   "outputs": [
    {
     "data": {
      "text/plain": [
       "{'color': 'black'}"
      ]
     },
     "execution_count": 15,
     "metadata": {},
     "output_type": "execute_result"
    }
   ],
   "source": [
    "spam = {}\n",
    "spam.setdefault('color','black')\n",
    "spam"
   ]
  },
  {
   "cell_type": "markdown",
   "id": "d6dcaff2",
   "metadata": {},
   "source": [
    "#### 8.How do you 'pretty print' dictionary values using which modules and function ?\n",
    "`Solution: We can pretty print using pprint(),json.dumps & yaml.dump`"
   ]
  },
  {
   "cell_type": "code",
   "execution_count": 24,
   "id": "3205ca90",
   "metadata": {},
   "outputs": [
    {
     "name": "stdout",
     "output_type": "stream",
     "text": [
      "Printing using print() function\n",
      " [{'Company': 'iNeuron', 'Location': 'Bangalore', 'Data_Science_Courses': {'ML': 'Machine Learning', 'DL': 'Deep Learning', 'NLP': 'Natural Language Processing'}}, {'Faculty': {'ML': 'Sudhanshu', 'DL': 'Krish', 'NLP': 'Sagar'}}]\n",
      "***************************************************************************\n",
      "Printing using pprint() funciton\n",
      "\n",
      "[{'Company': 'iNeuron',\n",
      "  'Data_Science_Courses': {'DL': 'Deep Learning',\n",
      "                           'ML': 'Machine Learning',\n",
      "                           'NLP': 'Natural Language Processing'},\n",
      "  'Location': 'Bangalore'},\n",
      " {'Faculty': {'DL': 'Krish', 'ML': 'Sudhanshu', 'NLP': 'Sagar'}}]\n",
      "***************************************************************************\n",
      "Printing using dumps() method\n",
      " [\n",
      "    {\n",
      "        \"Company\": \"iNeuron\",\n",
      "        \"Location\": \"Bangalore\",\n",
      "        \"Data_Science_Courses\": {\n",
      "            \"ML\": \"Machine Learning\",\n",
      "            \"DL\": \"Deep Learning\",\n",
      "            \"NLP\": \"Natural Language Processing\"\n",
      "        }\n",
      "    },\n",
      "    {\n",
      "        \"Faculty\": {\n",
      "            \"ML\": \"Sudhanshu\",\n",
      "            \"DL\": \"Krish\",\n",
      "            \"NLP\": \"Sagar\"\n",
      "        }\n",
      "    }\n",
      "]\n",
      "***************************************************************************\n",
      "Printing using dump() method\n",
      " - Company: iNeuron\n",
      "  Data_Science_Courses:\n",
      "    DL: Deep Learning\n",
      "    ML: Machine Learning\n",
      "    NLP: Natural Language Processing\n",
      "  Location: Bangalore\n",
      "- Faculty:\n",
      "    DL: Krish\n",
      "    ML: Sudhanshu\n",
      "    NLP: Sagar\n",
      "\n"
     ]
    }
   ],
   "source": [
    "import pprint,json,yaml\n",
    "\n",
    "test_dict = [{'Company':'iNeuron','Location':'Bangalore','Data_Science_Courses': {'ML':'Machine Learning','DL':'Deep Learning','NLP':'Natural Language Processing'}},\n",
    "            {'Faculty':{'ML':'Sudhanshu','DL':'Krish','NLP':'Sagar'}}]\n",
    "\n",
    "print('Printing using print() function\\n',test_dict)\n",
    "print('*'*75)\n",
    "print('Printing using pprint() funciton\\n')\n",
    "pprint.pprint(test_dict)\n",
    "print('*'*75)\n",
    "dump = json.dumps(test_dict, indent=4)\n",
    "print('Printing using dumps() method\\n', dump)\n",
    "print('*'*75)\n",
    "dump = yaml.dump(test_dict)\n",
    "print('Printing using dump() method\\n', dump)\n"
   ]
  },
  {
   "cell_type": "code",
   "execution_count": null,
   "id": "bb00e1de",
   "metadata": {},
   "outputs": [],
   "source": []
  }
 ],
 "metadata": {
  "kernelspec": {
   "display_name": "Python 3",
   "language": "python",
   "name": "python3"
  },
  "language_info": {
   "codemirror_mode": {
    "name": "ipython",
    "version": 3
   },
   "file_extension": ".py",
   "mimetype": "text/x-python",
   "name": "python",
   "nbconvert_exporter": "python",
   "pygments_lexer": "ipython3",
   "version": "3.8.8"
  }
 },
 "nbformat": 4,
 "nbformat_minor": 5
}

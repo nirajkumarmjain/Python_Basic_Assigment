{
 "cells": [
  {
   "cell_type": "markdown",
   "id": "dced684f",
   "metadata": {},
   "source": [
    "# Python_Basic_Assignment_8"
   ]
  },
  {
   "cell_type": "markdown",
   "id": "707d979c",
   "metadata": {},
   "source": [
    "#### 1. Is the Python Standard Library included with PyInputPlus?\n",
    "`Solution: PyInputPlus is not included as a Python Standard Library. We can install using the command !pip install PyInputPlus`\n",
    "#### 2. Why is PyInputPlus commonly imported with import pyinputplus as pypi?\n",
    "`Solution: In order for programming convienience, it is commonly imported with command import pyinputplus as pypi`\n",
    "#### 3. How do you distinguish between inputInt() and inputFloat()?\n",
    "`Solution: inputInt() function Accepts an integer value and returns value as int, whereas, inputFloat() function Accepts a floating-point numeric value and returns value as float`\n",
    "#### 4. Using PyInputPlus, how do you ensure that the user enters a whole number between 0 and 99?\n",
    "`Solution: We can use inputInt() function and it's parameters to control the user input`"
   ]
  },
  {
   "cell_type": "code",
   "execution_count": 3,
   "id": "b74c333a",
   "metadata": {},
   "outputs": [
    {
     "name": "stdout",
     "output_type": "stream",
     "text": [
      "Enter a number: 101\n",
      "Number must be at maximum 100.\n",
      "Enter a number: 98\n",
      "98\n"
     ]
    }
   ],
   "source": [
    "import pyinputplus as pyip\n",
    "whole_num = pyip.inputInt(prompt='Enter a number: ', min=0, max=100)\n",
    "print(whole_num)"
   ]
  },
  {
   "cell_type": "markdown",
   "id": "50353036",
   "metadata": {},
   "source": [
    "#### 5. What is transferred to the keyword arguments allowRegexes and blockRegexes?\n",
    "`Solution: The keyword arguments allowRegexes and blockRegexes can be used to take list of regular expression strings to determine what the pyinputplus function will reject or accept valid input.` \n",
    "#### 6. If a blank input is entered three times, what does inputStr(limit=3) do?\n",
    "`Solution: It will throw exceptions like ValidationException and RetryLimitException. ValidationException exception is thrown because blank values are not allowed by inputStr() function by default,if we want to consider blank values as valid input, we have to set blank=True.RetryLimitException exception is occured because we have reached the max limit we have specified by using limit parameter. inorder to avoid this exception we can use default parameter to return a default value when max limit is reached.`"
   ]
  },
  {
   "cell_type": "markdown",
   "id": "9996de4f",
   "metadata": {},
   "source": [
    "#### 7. If blank input is entered three times, what does inputStr(limit=3, default='hello') do?\n",
    "`Solution: Since the default parameter is set to hello. after blank input is entered three times instead of raising RetryLimitException exception. the function will return hello as response to the calling function`"
   ]
  },
  {
   "cell_type": "code",
   "execution_count": null,
   "id": "bf06b8fb",
   "metadata": {},
   "outputs": [],
   "source": []
  }
 ],
 "metadata": {
  "kernelspec": {
   "display_name": "Python 3",
   "language": "python",
   "name": "python3"
  },
  "language_info": {
   "codemirror_mode": {
    "name": "ipython",
    "version": 3
   },
   "file_extension": ".py",
   "mimetype": "text/x-python",
   "name": "python",
   "nbconvert_exporter": "python",
   "pygments_lexer": "ipython3",
   "version": "3.8.8"
  }
 },
 "nbformat": 4,
 "nbformat_minor": 5
}

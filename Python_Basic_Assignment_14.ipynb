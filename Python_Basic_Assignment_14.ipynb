{
 "cells": [
  {
   "cell_type": "markdown",
   "id": "5354fa05",
   "metadata": {},
   "source": [
    "# Python_Basic_Assignment_14"
   ]
  },
  {
   "cell_type": "markdown",
   "id": "4e1e5ab6",
   "metadata": {},
   "source": [
    "#### 1. What does RGBA stand for?\n",
    "`Solution:  RGBA is a four-channel format containing data for Red, Green, Blue, and an Alpha value. Where Alpha Represents the Opacity`\n",
    "#### 2. From the Pillow module, how do you get the RGBA value of any images?\n",
    "`Solution: ImageColor.getcolor() can be used to get rgba value of any image`\n",
    "#### 3. What is a box tuple, and how does it work?\n",
    "`Solution: Box tuple represents 4 values: left-edge x-coordinate, the top-edge y-coordinate,the width, and the height`4. \n",
    "#### 4. Use your image and load in notebook then, How can you find out the width and height of an Image object?\n",
    "`Solution: `"
   ]
  },
  {
   "cell_type": "code",
   "execution_count": 8,
   "id": "0dbd74ee",
   "metadata": {},
   "outputs": [
    {
     "name": "stdout",
     "output_type": "stream",
     "text": [
      "Width, Height -> (2433, 1544)\n"
     ]
    }
   ],
   "source": [
    "from PIL import Image\n",
    "pic = Image.open('IMG_20220111_204727.jpg',mode='r')\n",
    "print(f'Width, Height -> {pic.size}')"
   ]
  },
  {
   "cell_type": "markdown",
   "id": "cf03750b",
   "metadata": {},
   "source": [
    "#### 5. What method would you call to get Image object for a 100×100 image, excluding the lower-left quarter of it?\n",
    "`Solution:`"
   ]
  },
  {
   "cell_type": "code",
   "execution_count": 18,
   "id": "dd313a2d",
   "metadata": {},
   "outputs": [],
   "source": [
    "from PIL import Image\n",
    "pic = Image.open('IMG_20220111_204727.jpg',mode='r')\n",
    "new_img = pic.crop((0,50,50,50))"
   ]
  },
  {
   "cell_type": "markdown",
   "id": "7293827c",
   "metadata": {},
   "source": [
    "#### 6. After making changes to an Image object, how could you save it as an image file?\n",
    "`Solution: `"
   ]
  },
  {
   "cell_type": "code",
   "execution_count": 19,
   "id": "a790a4de",
   "metadata": {},
   "outputs": [],
   "source": [
    "from PIL import Image\n",
    "pic = Image.open('IMG_20220111_204727.jpg',mode='r')\n",
    "pic.save('new_pic.jpg')"
   ]
  },
  {
   "cell_type": "markdown",
   "id": "1385dfe8",
   "metadata": {},
   "source": [
    "#### 7. What module contains Pillow’s shape-drawing code?\n",
    "`Solution: ImageDraw module contains Shape drawing methods`\n",
    "#### 8. Image objects do not have drawing methods. What kind of object does? How do you get this kind of object?\n",
    "`Solution:  ImageDraw objects have shape-drawing methods such as point(), line(), or rectangle().They are returned by passing the Image object to the ImageDraw.Draw() function.`"
   ]
  }
 ],
 "metadata": {
  "kernelspec": {
   "display_name": "Python 3",
   "language": "python",
   "name": "python3"
  },
  "language_info": {
   "codemirror_mode": {
    "name": "ipython",
    "version": 3
   },
   "file_extension": ".py",
   "mimetype": "text/x-python",
   "name": "python",
   "nbconvert_exporter": "python",
   "pygments_lexer": "ipython3",
   "version": "3.8.8"
  }
 },
 "nbformat": 4,
 "nbformat_minor": 5
}

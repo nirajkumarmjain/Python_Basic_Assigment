{
 "cells": [
  {
   "cell_type": "markdown",
   "id": "ad245df3",
   "metadata": {},
   "source": [
    "# Python_Basic_Assignment_6"
   ]
  },
  {
   "cell_type": "markdown",
   "id": "81e5732e",
   "metadata": {},
   "source": [
    "#### 1.What are Escape characters ? and how do you use them ?\n",
    "`Solution: To insert characters that are illegal in a string, use an escape character. An escape character is a backslash \\ followed by the character you want to insert.` "
   ]
  },
  {
   "cell_type": "markdown",
   "id": "ce05ff77",
   "metadata": {},
   "source": [
    "#### 2.What do the escape characters n and t stand for ?\n",
    "`Solution: \\n is a newline, \\t is a tab`"
   ]
  },
  {
   "cell_type": "markdown",
   "id": "f679af10",
   "metadata": {},
   "source": [
    "#### 3.What is the way to include backslash character in a string?\n",
    "`Solution: We can use \\\\ to include backslash character in a string`"
   ]
  },
  {
   "cell_type": "markdown",
   "id": "476e24a7",
   "metadata": {},
   "source": [
    "#### 4. The string \"Howl's Moving Castle\" is a correct value. Why isn't the single quote character in the word Howl's not escaped a problem ?\n",
    "`\n",
    "Solution: \n",
    "We are using \"\" to represent the string, incase we had used '' to represent the entire string then we need to have used escape character`\n",
    "\n",
    "`'Howl\\'s Moving Castle' -> 'Howl's Moving Castle'`"
   ]
  },
  {
   "cell_type": "markdown",
   "id": "79ee0165",
   "metadata": {},
   "source": [
    "#### 5.How do you write a string of newlines if you don't want to use the n character?\n",
    "`Solution: Multiline string allow you to use newlines in string without the \\n escape character`"
   ]
  },
  {
   "cell_type": "code",
   "execution_count": 2,
   "id": "03bcf4f2",
   "metadata": {},
   "outputs": [
    {
     "name": "stdout",
     "output_type": "stream",
     "text": [
      "iNeuron offers \n",
      "variety of courses \n",
      "at affordable cost\n"
     ]
    }
   ],
   "source": [
    "str_1 = '''iNeuron offers \n",
    "variety of courses \n",
    "at affordable cost'''\n",
    "print(str_1)"
   ]
  },
  {
   "cell_type": "markdown",
   "id": "ed6073d9",
   "metadata": {},
   "source": [
    "#### 6.What are the values of the given expressions ?\n",
    "'Hello, world!'[1]\n",
    "\n",
    "'Hello, world!'[0:5]\n",
    "\n",
    "'Hello, world!'[:5]\n",
    "\n",
    "'Hello, world!'[3:]\n",
    "\n",
    "`Solution: `"
   ]
  },
  {
   "cell_type": "code",
   "execution_count": 3,
   "id": "45c4d8fc",
   "metadata": {},
   "outputs": [
    {
     "name": "stdout",
     "output_type": "stream",
     "text": [
      "'Hello, world!'[1] -> e\n",
      "'Hello, world!'[0:5] -> Hello\n",
      "'Hello, world!'[:5] -> Hello\n",
      "'Hello, world!'[3:] -> lo, world!\n"
     ]
    }
   ],
   "source": [
    "print(\"'Hello, world!'[1] ->\",'Hello, world!'[1])\n",
    "print(\"'Hello, world!'[0:5] ->\",'Hello, world!'[0:5])\n",
    "print(\"'Hello, world!'[:5] ->\",'Hello, world!'[:5])\n",
    "print(\"'Hello, world!'[3:] ->\",'Hello, world!'[3:])"
   ]
  },
  {
   "cell_type": "markdown",
   "id": "5b3e40f0",
   "metadata": {},
   "source": [
    "#### 7.What are the values of the following expressions ?\n",
    "\n",
    "'Hello'.upper()\n",
    "\n",
    "'Hello'.upper().isupper()\n",
    "\n",
    "'Hello'.upper().lower()\n",
    "\n",
    "`Solution:`"
   ]
  },
  {
   "cell_type": "code",
   "execution_count": 4,
   "id": "f9bd8e5d",
   "metadata": {},
   "outputs": [
    {
     "name": "stdout",
     "output_type": "stream",
     "text": [
      "'Hello'.upper() -> HELLO\n",
      "'Hello'.upper().isupper() -> True\n",
      "'Hello'.upper().lower() -> hello\n"
     ]
    }
   ],
   "source": [
    "print(\"'Hello'.upper() ->\",'Hello'.upper())\n",
    "print(\"'Hello'.upper().isupper() ->\",'Hello'.upper().isupper())\n",
    "print(\"'Hello'.upper().lower() ->\",'Hello'.upper().lower())"
   ]
  },
  {
   "cell_type": "markdown",
   "id": "bc10bd29",
   "metadata": {},
   "source": [
    "#### 8.What are the values of the following expressions ?\n",
    "\n",
    "'Remember, remember, the fifith of July.'.split()\n",
    "\n",
    "-'.join('There can only one'.split())"
   ]
  },
  {
   "cell_type": "markdown",
   "id": "02b2c539",
   "metadata": {},
   "source": [
    "`Solution: The values for the given expressions are:`"
   ]
  },
  {
   "cell_type": "code",
   "execution_count": 11,
   "id": "cc99c7f7",
   "metadata": {},
   "outputs": [
    {
     "name": "stdout",
     "output_type": "stream",
     "text": [
      "'Remember, remember, the fifith of July.'.split() -> ['Remember,', 'remember,', 'the', 'fifith', 'of', 'July.']\n",
      "'-'.join('There can only one'.split()) -> There-can-only-one\n"
     ]
    }
   ],
   "source": [
    "print(\"'Remember, remember, the fifith of July.'.split() ->\",'Remember, remember, the fifith of July.'.split())\n",
    "\n",
    "print(\"'-'.join('There can only one'.split()) ->\",'-'.join('There can only one'.split()))"
   ]
  },
  {
   "cell_type": "markdown",
   "id": "ae60aba9",
   "metadata": {},
   "source": [
    "#### 9.What are the methods for right-justifying, left-justifying and centering a string ?\n",
    "`Solution: The rjust(),ljust(),center() string methods, respectively`\n",
    "#### 10.What is the best way to remove whitespace characters from the start or end ?\n",
    "`Solution: The lstrip() and rstrip() methods remove whitesapce characters from the left and right ends of a string respectively"
   ]
  }
 ],
 "metadata": {
  "kernelspec": {
   "display_name": "Python 3",
   "language": "python",
   "name": "python3"
  },
  "language_info": {
   "codemirror_mode": {
    "name": "ipython",
    "version": 3
   },
   "file_extension": ".py",
   "mimetype": "text/x-python",
   "name": "python",
   "nbconvert_exporter": "python",
   "pygments_lexer": "ipython3",
   "version": "3.8.8"
  }
 },
 "nbformat": 4,
 "nbformat_minor": 5
}

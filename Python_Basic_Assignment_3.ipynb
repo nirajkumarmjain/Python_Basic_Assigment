{
 "cells": [
  {
   "cell_type": "markdown",
   "metadata": {},
   "source": [
    "# Python_BasicAssignment_3"
   ]
  },
  {
   "cell_type": "code",
   "execution_count": 1,
   "metadata": {},
   "outputs": [
    {
     "name": "stdout",
     "output_type": "stream",
     "text": [
      "1. Why are functions advantageous to have in your programs?\n",
      "\n",
      "Solution:\n",
      "\n",
      "Function in our program will help to reduce code duplication. It will also help to reuse the code multiple times without repeating the code again. Functions also make the code more readable.\n"
     ]
    }
   ],
   "source": [
    "print(\"1. Why are functions advantageous to have in your programs?\\n\")\n",
    "print(\"Solution:\\n\")\n",
    "print(\"Function in our program will help to reduce code duplication. It will also help to reuse the code multiple times without repeating the code again. Functions also make the code more readable.\")"
   ]
  },
  {
   "cell_type": "code",
   "execution_count": 2,
   "metadata": {},
   "outputs": [
    {
     "name": "stdout",
     "output_type": "stream",
     "text": [
      "2. When does the code in a function run: when it's specified or when it's called?\n",
      "\n",
      "Solution:\n",
      "\n",
      "The code/statements inside the function are executed when it is called/invoked. If the function is not called/invoked then the statements written inside the function are useless.\n"
     ]
    }
   ],
   "source": [
    "print(\"2. When does the code in a function run: when it's specified or when it's called?\\n\")\n",
    "print(\"Solution:\\n\")\n",
    "print(\"The code/statements inside the function are executed when it is called/invoked. If the function is not called/invoked then the statements written inside the function are useless.\")"
   ]
  },
  {
   "cell_type": "code",
   "execution_count": 7,
   "metadata": {},
   "outputs": [
    {
     "name": "stdout",
     "output_type": "stream",
     "text": [
      "3. What statement creates a function?\n",
      "\n",
      "Solution:\n",
      "\n",
      "To create any function in Python, We have use 'def' keyword followed by 'name of function'. The function can/cannot have arguments.\n",
      "Following is an example of basic function that takes 2 arguments and returns sum of those 2 input arguments\n",
      "def add(a,b):\n",
      "\treturn (a+b)\n",
      "add(3,4)\n"
     ]
    },
    {
     "data": {
      "text/plain": [
       "7"
      ]
     },
     "execution_count": 7,
     "metadata": {},
     "output_type": "execute_result"
    }
   ],
   "source": [
    "print(\"3. What statement creates a function?\\n\")\n",
    "print(\"Solution:\\n\")\n",
    "print(\"To create any function in Python, We have use 'def' keyword followed by 'name of function'. The function can/cannot have arguments.\\nFollowing is an example of basic function that takes 2 arguments and returns sum of those 2 input arguments\\ndef add(a,b):\\n\\treturn (a+b)\\nadd(3,4)\")\n",
    "def add(a,b):\n",
    "    return(a+b)\n",
    "add(3,4)"
   ]
  },
  {
   "cell_type": "code",
   "execution_count": 8,
   "metadata": {},
   "outputs": [
    {
     "name": "stdout",
     "output_type": "stream",
     "text": [
      "4. What is the difference between a function and a function call?\n",
      "\n",
      "Solution:\n",
      "\n",
      "Function: Function contains list of statements that is written to achieve particular tasks\n",
      "Function Call: Function call is an execution process to invoke the written function to produce desired result of task.\n",
      "Without Function Call, a function is useless\n"
     ]
    }
   ],
   "source": [
    "print(\"4. What is the difference between a function and a function call?\\n\")\n",
    "print(\"Solution:\\n\")\n",
    "print(\"Function: Function contains list of statements that is written to achieve particular tasks\\nFunction Call: Function call is an execution process to invoke the written function to produce desired result of task.\\nWithout Function Call, a function is useless\")"
   ]
  },
  {
   "cell_type": "code",
   "execution_count": 10,
   "metadata": {},
   "outputs": [
    {
     "name": "stdout",
     "output_type": "stream",
     "text": [
      "5. How many global scopes are there in a Python program? How many local scopes?\n",
      "\n",
      "Solution:\n",
      "\n",
      "There is one global scope, and a local scope is created whenever a function is called. We have enclosing scope which is a form of local scope that is present in scenario of nested function(function within another function) \n"
     ]
    }
   ],
   "source": [
    "print(\"5. How many global scopes are there in a Python program? How many local scopes?\\n\")\n",
    "print(\"Solution:\\n\")\n",
    "print(\"There is one global scope, and a local scope is created whenever a function is called. We have enclosing scope which is a form of local scope that is present in scenario of nested function(function within another function) \")"
   ]
  },
  {
   "cell_type": "code",
   "execution_count": 10,
   "metadata": {},
   "outputs": [
    {
     "name": "stdout",
     "output_type": "stream",
     "text": [
      "6. What happens to variables in a local scope when the function call returns?\n",
      "\n",
      "Solution\n",
      "\n",
      "The variables within local scope will be destroyed after the function call is completed.\n"
     ]
    }
   ],
   "source": [
    "print(\"6. What happens to variables in a local scope when the function call returns?\\n\")\n",
    "print(\"Solution\\n\")\n",
    "print(\"The variables within local scope will be destroyed after the function call is completed.\")"
   ]
  },
  {
   "cell_type": "code",
   "execution_count": 2,
   "metadata": {},
   "outputs": [
    {
     "name": "stdout",
     "output_type": "stream",
     "text": [
      "7. What is the concept of a return value? Is it possible to have a return value in an expression?\n",
      "\n",
      "Solution\n",
      "\n",
      "A return statement is used to end the execution of the function call and returns the output. Yes, return value can be an expression. For eg: following function returns sum(a+b) of 2 input variables  \n",
      "def add(a,b):\n",
      "\treturn (a+b)\n",
      "add(3,4)\n"
     ]
    },
    {
     "data": {
      "text/plain": [
       "7"
      ]
     },
     "execution_count": 2,
     "metadata": {},
     "output_type": "execute_result"
    }
   ],
   "source": [
    "print(\"7. What is the concept of a return value? Is it possible to have a return value in an expression?\\n\")\n",
    "print(\"Solution\\n\")\n",
    "print(\"A return statement is used to end the execution of the function call and returns the output. Yes, return value can be an expression. For eg: following function returns sum(a+b) of 2 input variables  \\ndef add(a,b):\\n\\treturn (a+b)\\nadd(3,4)\")\n",
    "def add(a,b):\n",
    "    return(a+b) # returning an expression\n",
    "add(3,4)"
   ]
  },
  {
   "cell_type": "code",
   "execution_count": 3,
   "metadata": {},
   "outputs": [
    {
     "name": "stdout",
     "output_type": "stream",
     "text": [
      "8. If a function does not have a return statement, what is the return value of a call to that function?\n",
      "\n",
      "Solution\n",
      "\n",
      "The function always returns None if explicitly return is not written.\n"
     ]
    }
   ],
   "source": [
    "print(\"8. If a function does not have a return statement, what is the return value of a call to that function?\\n\")\n",
    "print(\"Solution:\\n\")\n",
    "print(\"The function always returns None if explicitly return is not written.\")"
   ]
  },
  {
   "cell_type": "code",
   "execution_count": 5,
   "metadata": {},
   "outputs": [
    {
     "name": "stdout",
     "output_type": "stream",
     "text": [
      "9. How do you make a function variable refer to the global variable?\n",
      "\n",
      "Solution:\n",
      "\n",
      "Variables that are created outside of a function are known as global variables.Global variables can be used by everyone, both inside of functions and outside. We can use the 'global' keyword to change global variable inside any function\n"
     ]
    }
   ],
   "source": [
    "print(\"9. How do you make a function variable refer to the global variable?\\n\")\n",
    "print(\"Solution:\\n\")\n",
    "print(\"Variables that are created outside of a function are known as global variables.Global variables can be used by everyone, both inside of functions and outside. We can use the 'global' keyword to change global variable inside any function\")"
   ]
  },
  {
   "cell_type": "code",
   "execution_count": 8,
   "metadata": {},
   "outputs": [
    {
     "name": "stdout",
     "output_type": "stream",
     "text": [
      "10. What is the data type of None?\n",
      "\n",
      "Solution:\n",
      "\n",
      "The data type of None is 'NoneType'\n",
      "type(None)\n",
      "<class 'NoneType'>\n"
     ]
    }
   ],
   "source": [
    "print(\"10. What is the data type of None?\\n\")\n",
    "print(\"Solution:\\n\")\n",
    "print(\"The data type of None is 'NoneType'\\ntype(None)\")\n",
    "print(type(None))"
   ]
  },
  {
   "cell_type": "code",
   "execution_count": 11,
   "metadata": {},
   "outputs": [
    {
     "name": "stdout",
     "output_type": "stream",
     "text": [
      "11. What does the sentence import areallyourpetsnamederic do?\n",
      "\n",
      "Solution:\n",
      "\n",
      "The statement 'import areallyourpetsnamederic' will import the module areallyourpetsnamederic if any exists.\n"
     ]
    }
   ],
   "source": [
    "print(\"11. What does the sentence import areallyourpetsnamederic do?\\n\")\n",
    "print(\"Solution:\\n\")\n",
    "print(\"The statement 'import areallyourpetsnamederic' will import the module areallyourpetsnamederic if any exists.\")"
   ]
  },
  {
   "cell_type": "code",
   "execution_count": 12,
   "metadata": {},
   "outputs": [
    {
     "name": "stdout",
     "output_type": "stream",
     "text": [
      "12. If you had a bacon() feature in a spam module, what would you call it after importing spam?\n",
      "\n",
      "Solution:\n",
      "\n",
      "This function can be called with spam.bacon()\n"
     ]
    }
   ],
   "source": [
    "print(\"12. If you had a bacon() feature in a spam module, what would you call it after importing spam?\\n\")\n",
    "print(\"Solution:\\n\")\n",
    "print(\"This function can be called with spam.bacon()\")"
   ]
  },
  {
   "cell_type": "code",
   "execution_count": 14,
   "metadata": {},
   "outputs": [
    {
     "name": "stdout",
     "output_type": "stream",
     "text": [
      "13. What can you do to save a programme from crashing if it encounters an error?\n",
      "\n",
      "Solution:\n",
      "\n",
      "We can use try clause in such scenario where we expect the line of code that might cause an error\n"
     ]
    }
   ],
   "source": [
    "print(\"13. What can you do to save a programme from crashing if it encounters an error?\\n\")\n",
    "print(\"Solution:\\n\")\n",
    "print(\"We can use try clause in such scenario where we expect the line of code that might cause an error\")"
   ]
  },
  {
   "cell_type": "code",
   "execution_count": 16,
   "metadata": {},
   "outputs": [
    {
     "name": "stdout",
     "output_type": "stream",
     "text": [
      "14. What is the purpose of the try clause? What is the purpose of the except clause?\n",
      "\n",
      "Solution:\n",
      "\n",
      "'try' clause will have set of line of codes that we expect causing an error.'Catch' clause will have lines of codes that will be executed if an error occured from 'try' clause\n"
     ]
    }
   ],
   "source": [
    "print(\"14. What is the purpose of the try clause? What is the purpose of the except clause?\\n\")\n",
    "print(\"Solution:\\n\")\n",
    "print(\"'try' clause will have set of line of codes that we expect causing an error.'Catch' clause will have lines of codes that will be executed if an error occured from 'try' clause\")"
   ]
  },
  {
   "cell_type": "code",
   "execution_count": null,
   "metadata": {},
   "outputs": [],
   "source": []
  }
 ],
 "metadata": {
  "kernelspec": {
   "display_name": "Python 3",
   "language": "python",
   "name": "python3"
  },
  "language_info": {
   "codemirror_mode": {
    "name": "ipython",
    "version": 3
   },
   "file_extension": ".py",
   "mimetype": "text/x-python",
   "name": "python",
   "nbconvert_exporter": "python",
   "pygments_lexer": "ipython3",
   "version": "3.7.4"
  }
 },
 "nbformat": 4,
 "nbformat_minor": 2
}

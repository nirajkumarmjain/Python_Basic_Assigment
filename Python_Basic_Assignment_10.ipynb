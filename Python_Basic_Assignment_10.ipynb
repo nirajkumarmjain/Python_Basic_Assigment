{
 "cells": [
  {
   "cell_type": "markdown",
   "id": "eedfef7f",
   "metadata": {},
   "source": [
    "# Python_Basic_Assignment_10"
   ]
  },
  {
   "cell_type": "markdown",
   "id": "20f1b6cc",
   "metadata": {},
   "source": [
    "#### 1. How do you distinguish between shutil.copy() and shutil.copytree()?\n",
    "`Solution: shutil. copy() will copy a single file, shutil. copytree() will copy an entire folder and every folder and file contained in it`\n",
    "#### 2. What function is used to rename files??\n",
    "`Solution: os.rename() function can be used to rename files or directories using a python program`\n",
    "#### 3. What is the difference between the delete functions in the send2trash and shutil modules?\n",
    "`Solution: Shutil module provides a funciton called as shutil.rmtree() which deletes a directory and all its contents permanently. send2trash module provides a function called send2trash.send2trash() which moves the files/directories to trash folder instead of permanently deleting them.`\n",
    "#### 4. ZipFile objects have a close() method just like File objects’ close() method. What ZipFile method is equivalent to File objects’ open() method?\n",
    "`Solution:  ZipFile Module provides a method called as zipfile.ZipFile() to read and write to zipFiles.`\n",
    "#### 5. Create a programme that searches a folder tree for files with a certain file extension (such as .pdf or .jpg). Copy these files from whatever location they are in to a new folder.\n",
    "`Solution:`"
   ]
  },
  {
   "cell_type": "code",
   "execution_count": 3,
   "id": "975959c2",
   "metadata": {},
   "outputs": [
    {
     "name": "stdout",
     "output_type": "stream",
     "text": [
      "Folder -> D:\\python_1\\Python_Basic_Assignment\\Dummy_Source\n",
      "\n",
      "Sub Folder -> []\n",
      "\n",
      "Files ➞ ['Python_Basic_Assignment_10.ipynb', 'Python_Basic_Assignment_4.ipynb', 'Python_Basic_Assignment_5.ipynb', 'Python_Basic_Assignment_6.ipynb', 'Python_Basic_Assignment_8.ipynb', 'Python_Basic_Assignment_9.ipynb']\n",
      "\n",
      "Files copied successfully from Dummy_Source to Dummy_Destination\n"
     ]
    }
   ],
   "source": [
    "import os\n",
    "import shutil\n",
    "\n",
    "def find_and_copy(src_folder,dest_folder,file_extensions):\n",
    "    source = os.path.abspath(src_folder)\n",
    "    destination = os.path.abspath(dest_folder)\n",
    "\n",
    "    for folder,subfolder,filename in os.walk(source):\n",
    "        print(f'Folder -> {folder}',end='\\n\\n')\n",
    "        print(f'Sub Folder -> {subfolder}' ,end='\\n\\n')\n",
    "        print(f'Files ➞ {filename}',end='\\n\\n')\n",
    "        for file in filename:\n",
    "            file,ext = os.path.splitext(file)\n",
    "            if ext in file_extensions:\n",
    "                targetfile = folder+os.path.sep+file+ext\n",
    "                shutil.copy(targetfile,dest_folder)\n",
    "                \n",
    "        print(f'Files copied successfully from {src_folder} to {dest_folder}')\n",
    "        \n",
    "extensions = ['.ipynb']\n",
    "source = 'Dummy_Source'\n",
    "destination = 'Dummy_Destination'\n",
    "find_and_copy(source, destination, extensions)"
   ]
  },
  {
   "cell_type": "code",
   "execution_count": null,
   "id": "ad5f0d5e",
   "metadata": {},
   "outputs": [],
   "source": []
  }
 ],
 "metadata": {
  "kernelspec": {
   "display_name": "Python 3",
   "language": "python",
   "name": "python3"
  },
  "language_info": {
   "codemirror_mode": {
    "name": "ipython",
    "version": 3
   },
   "file_extension": ".py",
   "mimetype": "text/x-python",
   "name": "python",
   "nbconvert_exporter": "python",
   "pygments_lexer": "ipython3",
   "version": "3.8.8"
  }
 },
 "nbformat": 4,
 "nbformat_minor": 5
}

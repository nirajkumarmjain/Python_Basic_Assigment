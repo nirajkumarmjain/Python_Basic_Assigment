{
 "cells": [
  {
   "cell_type": "markdown",
   "id": "875419b4",
   "metadata": {},
   "source": [
    "# Python_Basic_Assignment_4"
   ]
  },
  {
   "cell_type": "markdown",
   "id": "100cba57",
   "metadata": {},
   "source": [
    "#### 1. What exactly is []?"
   ]
  },
  {
   "cell_type": "markdown",
   "id": "166d30ed",
   "metadata": {},
   "source": [
    "`Solution: This is an empty list`"
   ]
  },
  {
   "cell_type": "markdown",
   "id": "79afa2b9",
   "metadata": {},
   "source": [
    "#### 2.In a list of values stored in a variable called spam, how would you assign the value 'hello' as the third value? (Assume [2, 4, 6, 8, 10] are in spam.)"
   ]
  },
  {
   "cell_type": "markdown",
   "id": "bcef7512",
   "metadata": {},
   "source": [
    "`Solution: spam[2] = 'hello'`"
   ]
  },
  {
   "cell_type": "code",
   "execution_count": 22,
   "id": "3ccaf694",
   "metadata": {},
   "outputs": [
    {
     "name": "stdout",
     "output_type": "stream",
     "text": [
      "[2, 4, 6, 8, 10]\n",
      "[2, 4, 'hello', 8, 10]\n"
     ]
    }
   ],
   "source": [
    "spam = [2, 4, 6, 8, 10]\n",
    "print(spam)\n",
    "spam[2] = 'hello'\n",
    "print(spam)"
   ]
  },
  {
   "cell_type": "markdown",
   "id": "d68e0448",
   "metadata": {},
   "source": [
    "#### Let's pretend the spam includes the list [&#39;a&#39;, &#39;b&#39;, &#39;c&#39;, &#39;d&#39;] for the next three queries."
   ]
  },
  {
   "cell_type": "markdown",
   "id": "02b61755",
   "metadata": {},
   "source": [
    "#### 3. What is the value of spam[int(int('3'*2)//11)] ?"
   ]
  },
  {
   "cell_type": "markdown",
   "id": "ec8efc43",
   "metadata": {},
   "source": [
    "`Solution: 'd' (Note that '3' * 2 is the string '33', which is passed to int() before being divided by 11. This eventually evaluates to 3, spam[3] is equal to d.)`"
   ]
  },
  {
   "cell_type": "code",
   "execution_count": 23,
   "id": "66d88018",
   "metadata": {},
   "outputs": [
    {
     "name": "stdout",
     "output_type": "stream",
     "text": [
      "spam[int(int('3'*2)//11)] -> d\n"
     ]
    }
   ],
   "source": [
    "spam=['a','b','c','d']\n",
    "print(\"spam[int(int('3'*2)//11)] ->\",spam[int(int('3'*2)//11)])"
   ]
  },
  {
   "cell_type": "markdown",
   "id": "ca7968f2",
   "metadata": {},
   "source": [
    "#### 4.What is the value of spam[-1]?"
   ]
  },
  {
   "cell_type": "markdown",
   "id": "97666c25",
   "metadata": {},
   "source": [
    "`Solution: The value of spam [-1] will be 'd' (It returns last value of list)`"
   ]
  },
  {
   "cell_type": "code",
   "execution_count": 24,
   "id": "9ce08655",
   "metadata": {},
   "outputs": [
    {
     "name": "stdout",
     "output_type": "stream",
     "text": [
      "spam[-1] -> d\n"
     ]
    }
   ],
   "source": [
    "print(\"spam[-1] ->\", spam[-1])"
   ]
  },
  {
   "cell_type": "markdown",
   "id": "b27386a2",
   "metadata": {},
   "source": [
    "#### 5. What is the value of spam[:2]?"
   ]
  },
  {
   "cell_type": "markdown",
   "id": "e7ca0b8e",
   "metadata": {},
   "source": [
    "`Solution: It returns all values from index 0 upto 2 excluding 2`"
   ]
  },
  {
   "cell_type": "code",
   "execution_count": 25,
   "id": "461636e1",
   "metadata": {},
   "outputs": [
    {
     "name": "stdout",
     "output_type": "stream",
     "text": [
      "spam -> ['a', 'b', 'c', 'd']\n",
      "spam[:2] -> ['a', 'b']\n"
     ]
    }
   ],
   "source": [
    "print(\"spam ->\",spam)\n",
    "print(\"spam[:2] ->\",spam[:2])"
   ]
  },
  {
   "cell_type": "markdown",
   "id": "09e017a0",
   "metadata": {},
   "source": [
    "#### Let's pretend bacon has the list [3.14,'cat',11,'cat',True] for the next three question\n",
    "#### 6. What is the value of bacon.index('cat')?"
   ]
  },
  {
   "cell_type": "markdown",
   "id": "1f8bb781",
   "metadata": {},
   "source": [
    "`Solution: 1 (Command returns index of first occurence of string(here: 'cat')`"
   ]
  },
  {
   "cell_type": "code",
   "execution_count": 26,
   "id": "1990c109",
   "metadata": {},
   "outputs": [
    {
     "name": "stdout",
     "output_type": "stream",
     "text": [
      "bacon -> [3.14, 'cat', 11, 'cat', True]\n",
      "bacon.index('cat') -> 1\n"
     ]
    }
   ],
   "source": [
    "bacon =  [3.14,'cat',11,'cat',True] \n",
    "print(\"bacon ->\",bacon)\n",
    "print(\"bacon.index('cat') ->\",bacon.index('cat'))"
   ]
  },
  {
   "cell_type": "markdown",
   "id": "3c7afb71",
   "metadata": {},
   "source": [
    "#### 7. How does bacon.append(99) change the look of the list value in bacon?\n",
    "`Solution: Append adds new element to end of list`"
   ]
  },
  {
   "cell_type": "code",
   "execution_count": 27,
   "id": "2db36b87",
   "metadata": {},
   "outputs": [
    {
     "name": "stdout",
     "output_type": "stream",
     "text": [
      "bacon -> [3.14, 'cat', 11, 'cat', True]\n",
      "bacon -> [3.14, 'cat', 11, 'cat', True, 99]\n"
     ]
    }
   ],
   "source": [
    "print(\"bacon ->\",bacon)\n",
    "bacon.append(99)\n",
    "print(\"bacon ->\",bacon)"
   ]
  },
  {
   "cell_type": "markdown",
   "id": "fc9ed5f9",
   "metadata": {},
   "source": [
    "#### 8. How does bacon.remove('cat') change the look of the list in bacon?\n",
    "`Solution: The command removes first occurence of given value(here: 'cat')`"
   ]
  },
  {
   "cell_type": "code",
   "execution_count": 28,
   "id": "9033e227",
   "metadata": {},
   "outputs": [
    {
     "name": "stdout",
     "output_type": "stream",
     "text": [
      "bacon -> [3.14, 'cat', 11, 'cat', True, 99]\n",
      "bacon -> [3.14, 11, 'cat', True, 99]\n"
     ]
    }
   ],
   "source": [
    "print(\"bacon ->\",bacon)\n",
    "bacon.remove('cat')\n",
    "print(\"bacon ->\",bacon)"
   ]
  },
  {
   "cell_type": "markdown",
   "id": "72626922",
   "metadata": {},
   "source": [
    "#### 9.what are the list concatenation and list replication operations?\n",
    "`Solution: + is a list concatenation operator and * is a list replication operator`"
   ]
  },
  {
   "cell_type": "code",
   "execution_count": 29,
   "id": "c2f3b78f",
   "metadata": {},
   "outputs": [
    {
     "name": "stdout",
     "output_type": "stream",
     "text": [
      "list_1 + list_2 -> ['a', 'b', 'c', 'd', 'e']\n",
      "list_1 * 2 -> ['a', 'b', 'c', 'a', 'b', 'c']\n"
     ]
    }
   ],
   "source": [
    "list_1 = ['a','b','c']\n",
    "list_2 = ['d','e']\n",
    "print(\"list_1 + list_2 ->\",list_1 + list_2)\n",
    "print(\"list_1 * 2 ->\",list_1 * 2)"
   ]
  },
  {
   "cell_type": "markdown",
   "id": "151203a7",
   "metadata": {},
   "source": [
    "#### 10.what is the difference between the list method append() and insert()?\n",
    "`Solution: append command adds new element to end of list and insert command adds element at given index location`"
   ]
  },
  {
   "cell_type": "code",
   "execution_count": 30,
   "id": "c1ef0f1a",
   "metadata": {},
   "outputs": [
    {
     "name": "stdout",
     "output_type": "stream",
     "text": [
      "list_1 ->  ['a', 'b', 'c']\n",
      "list_1.append('d') ->  ['a', 'b', 'c', 'd']\n",
      "list_1.insert(4,'e') ->  ['a', 'b', 'c', 'd', 'e']\n"
     ]
    }
   ],
   "source": [
    "list_1 = ['a','b','c']\n",
    "print('list_1 -> ',list_1)\n",
    "list_1.append('d')\n",
    "print(\"list_1.append('d') -> \",list_1)\n",
    "list_1.insert(4,'e')\n",
    "print(\"list_1.insert(4,'e') -> \",list_1)"
   ]
  },
  {
   "cell_type": "markdown",
   "id": "11fffb5d",
   "metadata": {},
   "source": [
    "#### 11. What are the two methods for removing items from a list?\n",
    "`Solution: del() command and the remove() command are two ways to remove values from a list`"
   ]
  },
  {
   "cell_type": "markdown",
   "id": "de418b5a",
   "metadata": {},
   "source": [
    "#### 12. Describe how list values and string values are identical.\n",
    "`Solution: We can perform len(),IN,NOT IN,for,slicing & indexing in both list & String`"
   ]
  },
  {
   "cell_type": "code",
   "execution_count": 31,
   "id": "999358e1",
   "metadata": {},
   "outputs": [
    {
     "name": "stdout",
     "output_type": "stream",
     "text": [
      "list_1 -> ['a', 'b', 'c']\n",
      "str_1 -> abc\n",
      "len(list_1) -> 3\n",
      "len(str_1) -> 3\n",
      "list_1[1] -> b\n",
      "str_1[1] -> b\n"
     ]
    }
   ],
   "source": [
    "list_1 = ['a','b','c']\n",
    "print(\"list_1 ->\",list_1)\n",
    "str_1 = 'abc'\n",
    "print(\"str_1 ->\",str_1)\n",
    "print(\"len(list_1) ->\",len(list_1))\n",
    "print(\"len(str_1) ->\",len(str_1))\n",
    "print(\"list_1[1] ->\",list_1[1])\n",
    "print(\"str_1[1] ->\",str_1[1])\n"
   ]
  },
  {
   "cell_type": "markdown",
   "id": "d3afe15f",
   "metadata": {},
   "source": [
    "#### 13. What's the difference between tuples and lists?\n",
    "`Solution: Lists are Mutable, Indexable and Slicable. they can have values added, removed, or changed. Tuples are Immutable but Indexable and Slicable. the tuple values cannot be changed at all. Also, tuples are represented using parentheses, (), while lists use the square brackets, []. `"
   ]
  },
  {
   "cell_type": "markdown",
   "id": "d0e2aad1",
   "metadata": {},
   "source": [
    "#### 14. How do you type a tuple value that only contains the integer 42?\n",
    "`Solution: (42,). The comma will help in creating tuple`"
   ]
  },
  {
   "cell_type": "code",
   "execution_count": 32,
   "id": "a4f4d21d",
   "metadata": {},
   "outputs": [
    {
     "name": "stdout",
     "output_type": "stream",
     "text": [
      "tup1 -> 42\n",
      "type(tup1) -> <class 'int'>\n",
      "tup1 -> (42,)\n",
      "type(tup1) -> <class 'tuple'>\n"
     ]
    }
   ],
   "source": [
    "tup1 = (42)\n",
    "print(\"tup1 ->\",tup1)\n",
    "print(\"type(tup1) ->\",type(tup1))\n",
    "tup1 = (42,)\n",
    "print(\"tup1 ->\",tup1)\n",
    "print(\"type(tup1) ->\",type(tup1))"
   ]
  },
  {
   "cell_type": "markdown",
   "id": "187c8b6b",
   "metadata": {},
   "source": [
    "#### 15. How do you get a list value's tuple form? How do you get a tuple value's list form?\n",
    "`Solution: The tuple() and list() functions, respectively are used to convert a list to tuple and vice versa`\n",
    "#### 16. Variables that \"contain\" list values are not necessarily lists themselves. Instead, what do they contain?\n",
    "`Solution: It contains references for the list`\n",
    "#### 17. How do you distinguish between copy.copy() and copy.deepcopy()?\n",
    "`Solution: \n",
    "A shallow copy creates a new object which stores the reference of the original elements. \n",
    "A deep copy creates a new object and recursively adds the copies of nested objects present in the original elements`"
   ]
  }
 ],
 "metadata": {
  "kernelspec": {
   "display_name": "Python 3",
   "language": "python",
   "name": "python3"
  },
  "language_info": {
   "codemirror_mode": {
    "name": "ipython",
    "version": 3
   },
   "file_extension": ".py",
   "mimetype": "text/x-python",
   "name": "python",
   "nbconvert_exporter": "python",
   "pygments_lexer": "ipython3",
   "version": "3.8.8"
  }
 },
 "nbformat": 4,
 "nbformat_minor": 5
}

{
 "cells": [
  {
   "cell_type": "markdown",
   "metadata": {},
   "source": [
    "# Python Basic Assignment: Assignment 1"
   ]
  },
  {
   "cell_type": "code",
   "execution_count": 72,
   "metadata": {},
   "outputs": [
    {
     "name": "stdout",
     "output_type": "stream",
     "text": [
      "1. In the below elements which of them are values or an expression? eg:- values can be integer or string and expressions will be mathematical operators.\n",
      "Element                  Answer\n",
      "*                is an expression(mathematical operator)\n",
      "'hello'          is a value(string)\n",
      "-87.8            is a value(float)\n",
      "-                is an expression(mathematical operator)\n",
      "/                is an expression(mathematical operator)\n",
      "6                is a value(int)\n"
     ]
    }
   ],
   "source": [
    "print(\"1. In the below elements which of them are values or an expression? eg:- values can be integer or string and expressions will be mathematical operators.\")\n",
    "print(\"Element                  Answer\")\n",
    "print(\"*                is an expression(mathematical operator)\")\n",
    "print(\"'hello'          is a value(string)\")\n",
    "print(\"-87.8            is a value(float)\")\n",
    "print(\"-                is an expression(mathematical operator)\")\n",
    "print(\"/                is an expression(mathematical operator)\")\n",
    "print(\"6                is a value(int)\")"
   ]
  },
  {
   "cell_type": "code",
   "execution_count": 73,
   "metadata": {},
   "outputs": [
    {
     "name": "stdout",
     "output_type": "stream",
     "text": [
      "2. What is the difference between string and variable?\n",
      "Answer: String can be termed as a value or information or one of the data type in python whereas variable in python is used for storing a value made of different data types(integers, float, complex, string) or expression (combination of #values,variables mathematical operators)\n"
     ]
    }
   ],
   "source": [
    "print(\"2. What is the difference between string and variable?\")\n",
    "print(\"Answer: String can be termed as a value or information or one of the data type in python whereas variable in python is used for storing a value made of different data types(integers, float, complex, string) or expression (combination of #values,variables mathematical operators)\")"
   ]
  },
  {
   "cell_type": "code",
   "execution_count": 78,
   "metadata": {},
   "outputs": [
    {
     "name": "stdout",
     "output_type": "stream",
     "text": [
      "3. Describe three different data types.\n",
      "Answer: Python supports various data types and commonly used data types are integer(eg i=5), float(eg f=5.43), complex(c=3+4j), string(s=\"ineuron\").\n"
     ]
    }
   ],
   "source": [
    "print(\"3. Describe three different data types.\")\n",
    "print('Answer: Python supports various data types and commonly used data types are integer(eg i=5), float(eg f=5.43), complex(c=3+4j), string(s=\"ineuron\").')"
   ]
  },
  {
   "cell_type": "code",
   "execution_count": 79,
   "metadata": {},
   "outputs": [
    {
     "name": "stdout",
     "output_type": "stream",
     "text": [
      "4. What is an expression made up of? What do all expressions do?\n",
      "Answer: Expression is something which has combination of values,variables, mathematical operators. When it is executed, it may produce some output if it contains combination of values,variables, mathematical operators or just can represent some value(integers, float, complex, string)\n"
     ]
    }
   ],
   "source": [
    "print(\"4. What is an expression made up of? What do all expressions do?\")\n",
    "print(\"Answer: Expression is something which has combination of values,variables, mathematical operators. When it is executed, it may produce some output if it contains combination of values,variables, mathematical operators or just can represent some value(integers, float, complex, string)\")"
   ]
  },
  {
   "cell_type": "code",
   "execution_count": 80,
   "metadata": {},
   "outputs": [
    {
     "name": "stdout",
     "output_type": "stream",
     "text": [
      "5. This assignment statements, like spam = 10. What is the difference between an expression and a statement?\n",
      "Answer: spam = 10 is a statement as it does something here i.e value 10 is assigned to variable spam. Expression is something which has combination of values,variables, mathematical operators. When it is executed, it may evaluate to a value or produce some output if it contains combination of values,variables, mathematical operators or just can represent some value(integers, float, complex, string)\n"
     ]
    }
   ],
   "source": [
    "print(\"5. This assignment statements, like spam = 10. What is the difference between an expression and a statement?\")\n",
    "print(\"Answer: spam = 10 is a statement as it does something here i.e value 10 is assigned to variable spam. Expression is something which has combination of values,variables, mathematical operators. When it is executed, it may evaluate to a value or produce some output if it contains combination of values,variables, mathematical operators or just can represent some value(integers, float, complex, string)\")"
   ]
  },
  {
   "cell_type": "code",
   "execution_count": 85,
   "metadata": {},
   "outputs": [
    {
     "name": "stdout",
     "output_type": "stream",
     "text": [
      "6. After running the following code, what does the variable bacon contain?\n",
      "22\n",
      "23\n",
      "22\n",
      "Answer: The variable bacon will still contain the orignal value 22 because the output of statement \"bacon + 1\" is not assigned to any variable\n"
     ]
    }
   ],
   "source": [
    "print(\"6. After running the following code, what does the variable bacon contain?\")\n",
    "bacon = 22\n",
    "print(bacon)\n",
    "print(bacon + 1)#statement output is not assigned to any variable\n",
    "print(bacon)\n",
    "print('Answer: The variable bacon will still contain the orignal value 22 because the output of statement \"bacon + 1\" is not assigned to any variable')"
   ]
  },
  {
   "cell_type": "code",
   "execution_count": 87,
   "metadata": {},
   "outputs": [
    {
     "name": "stdout",
     "output_type": "stream",
     "text": [
      "7. What should the values of the following two terms be?\n",
      "'spam' + 'spamspam'\n",
      "'spam' * 3\n",
      "Answer: Both the statements produce same result i.e 'spamspamspam' as seen below\n",
      "spamspamspam\n",
      "spamspamspam\n"
     ]
    }
   ],
   "source": [
    "print(\"7. What should the values of the following two terms be?\")\n",
    "print(\"'spam' + 'spamspam'\")\n",
    "print(\"'spam' * 3\")\n",
    "print(\"Answer: Both the statements produce same result i.e 'spamspamspam' as seen below\")\n",
    "#Answer for question 7\n",
    "print('spam' + 'spamspam')\n",
    "print('spam' * 3)"
   ]
  },
  {
   "cell_type": "code",
   "execution_count": 91,
   "metadata": {},
   "outputs": [
    {
     "name": "stdout",
     "output_type": "stream",
     "text": [
      "8. Why is eggs a valid variable name while 100 is invalid?\n",
      "Answer: There are some rules in Python to be followed we name any variable.Variable name containing alpha-numeric or alphabets is accepted but variable name only containing integers is not a accepted. Please see below\n"
     ]
    }
   ],
   "source": [
    "print(\"8. Why is eggs a valid variable name while 100 is invalid?\")\n",
    "print(\"Answer: There are some rules in Python to be followed we name any variable.Variable name containing alpha-numeric or alphabets is accepted but variable name only containing integers is not a accepted. Please see below\")"
   ]
  },
  {
   "cell_type": "code",
   "execution_count": 92,
   "metadata": {},
   "outputs": [
    {
     "name": "stdout",
     "output_type": "stream",
     "text": [
      "9. What three functions can be used to get the integer, floating-point number, or string version of a value?\n",
      "Answer: We can use inbuilt functions like int for integer float for floating-point number and str for string in python to get desired version of value. See below\n",
      "10\n",
      "10.0\n",
      "10\n"
     ]
    }
   ],
   "source": [
    "print(\"9. What three functions can be used to get the integer, floating-point number, or string version of a value?\")\n",
    "print(\"Answer: We can use inbuilt functions like int for integer float for floating-point number and str for string in python to get desired version of value. See below\")\n",
    "#Explanation for Question 9\n",
    "var = 10\n",
    "print(int(var))    #converts to integer value\n",
    "print(float(var))  #converts to float value\n",
    "print(str(var))    #converts to string value; when just executed like str(var), it would give result like '10'"
   ]
  },
  {
   "cell_type": "code",
   "metadata": {},
   "source": [
    "print(\"10. Why does this expression cause an error? How can you fix it?\")\n",
    "print(\"'I have eaten ' + 99 + ' burritos.'\")\n",
    "print(\"Answer: We can concatenate only strings. Here we have an integer value(99) which is causing an error. To solve this, we have to enclose each individual value within single or double quotes. So the right expression will be 'I have eaten ' + '99' + ' burritos.'\")"
   ]
  },
  {
   "cell_type": "code",
   "execution_count": 65,
   "metadata": {},
   "outputs": [
    {
     "ename": "TypeError",
     "evalue": "can only concatenate str (not \"int\") to str",
     "output_type": "error",
     "traceback": [
      "\u001b[1;31m---------------------------------------------------------------------------\u001b[0m",
      "\u001b[1;31mTypeError\u001b[0m                                 Traceback (most recent call last)",
      "\u001b[1;32m<ipython-input-65-105934ac74c1>\u001b[0m in \u001b[0;36m<module>\u001b[1;34m\u001b[0m\n\u001b[0;32m      1\u001b[0m \u001b[1;31m#Explanation for question 10. Following will throw an error\u001b[0m\u001b[1;33m\u001b[0m\u001b[1;33m\u001b[0m\u001b[1;33m\u001b[0m\u001b[0m\n\u001b[1;32m----> 2\u001b[1;33m \u001b[1;34m'I have eaten '\u001b[0m \u001b[1;33m+\u001b[0m \u001b[1;36m99\u001b[0m \u001b[1;33m+\u001b[0m \u001b[1;34m' burritos.'\u001b[0m\u001b[1;33m\u001b[0m\u001b[1;33m\u001b[0m\u001b[0m\n\u001b[0m",
      "\u001b[1;31mTypeError\u001b[0m: can only concatenate str (not \"int\") to str"
     ]
    }
   ],
   "source": [
    "#Explanation for question 10. Following will throw an error\n",
    "'I have eaten ' + 99 + ' burritos.'"
   ]
  },
  {
   "cell_type": "code",
   "execution_count": 64,
   "metadata": {},
   "outputs": [
    {
     "data": {
      "text/plain": [
       "'I have eaten 99 burritos.'"
      ]
     },
     "execution_count": 64,
     "metadata": {},
     "output_type": "execute_result"
    }
   ],
   "source": [
    "#Explanation for question 10. Following will not throw any error\n",
    "'I have eaten ' + '99' + ' burritos.'"
   ]
  }
 ],
 "metadata": {
  "kernelspec": {
   "display_name": "Python 3",
   "language": "python",
   "name": "python3"
  },
  "language_info": {
   "codemirror_mode": {
    "name": "ipython",
    "version": 3
   },
   "file_extension": ".py",
   "mimetype": "text/x-python",
   "name": "python",
   "nbconvert_exporter": "python",
   "pygments_lexer": "ipython3",
   "version": "3.7.4"
  }
 },
 "nbformat": 4,
 "nbformat_minor": 2
}

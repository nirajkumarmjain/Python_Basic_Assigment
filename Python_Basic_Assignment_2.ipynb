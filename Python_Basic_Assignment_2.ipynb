{
 "cells": [
  {
   "cell_type": "code",
   "execution_count": 1,
   "metadata": {},
   "outputs": [
    {
     "name": "stdout",
     "output_type": "stream",
     "text": [
      "1.What are the two values of the Boolean data type? How do you write them?\n",
      "Answer: In Python the two boolean data type values are represented as True and False\n"
     ]
    }
   ],
   "source": [
    "print(\"1.What are the two values of the Boolean data type? How do you write them?\")\n",
    "print(\"Answer: In Python the two boolean data type values are represented as True and False\")"
   ]
  },
  {
   "cell_type": "code",
   "execution_count": 2,
   "metadata": {},
   "outputs": [
    {
     "name": "stdout",
     "output_type": "stream",
     "text": [
      "2. What are the three different types of Boolean operators?\n",
      "Answer: In Python the three different types of Boolean operators are and,or and not\n"
     ]
    }
   ],
   "source": [
    "print(\"2. What are the three different types of Boolean operators?\")\n",
    "print(\"Answer: In Python the three different types of Boolean operators are and,or and not\")"
   ]
  },
  {
   "cell_type": "code",
   "execution_count": 3,
   "metadata": {},
   "outputs": [
    {
     "name": "stdout",
     "output_type": "stream",
     "text": [
      "3. Make a list of each Boolean operator's truth tables (i.e. every possible combination of Boolean values for the operator and what it evaluate ).\n",
      "\n",
      "Solution:\n",
      "Using 'and' boolean operator:\n",
      "\n",
      "False and False is : False\n",
      "True  and False is : False\n",
      "False and True  is : False\n",
      "True  and True  is : True\n",
      "\n",
      "Using 'or' boolean operator:\n",
      "\n",
      "False or False is : False\n",
      "True  or False is : True\n",
      "False or True  is : True\n",
      "True  or True  is : True\n",
      "\n",
      "Using 'not' boolean operator:\n",
      "\n",
      "not(False) is : True\n",
      "not(True)  is : False\n"
     ]
    }
   ],
   "source": [
    "print(\"3. Make a list of each Boolean operator's truth tables (i.e. every possible combination of Boolean values for the operator and what it evaluate ).\\n\")\n",
    "print(\"Solution:\\nUsing 'and' boolean operator:\\n\")\n",
    "print(\"False and False is :\",False and False)\n",
    "print(\"True  and False is :\",True and False)\n",
    "print(\"False and True  is :\",False and True)\n",
    "print(\"True  and True  is :\",True and True)\n",
    "print(\"\\nUsing 'or' boolean operator:\\n\")\n",
    "print(\"False or False is :\",False or False)\n",
    "print(\"True  or False is :\",True or False)\n",
    "print(\"False or True  is :\",False or True)\n",
    "print(\"True  or True  is :\",True or True)\n",
    "print(\"\\nUsing 'not' boolean operator:\\n\")\n",
    "print(\"not(False) is :\",not(False))\n",
    "print(\"not(True)  is :\",not(True))"
   ]
  },
  {
   "cell_type": "code",
   "execution_count": 4,
   "metadata": {},
   "outputs": [
    {
     "name": "stdout",
     "output_type": "stream",
     "text": [
      "4. What are the values of the following expressions?\n",
      "(5 > 4) and (3 == 5) is               :  False\n",
      "not (5 > 4) is                        :  False\n",
      "(5 > 4) or (3 == 5) is                :  True\n",
      "not ((5 > 4) or (3 == 5)) is          :  False\n",
      "(True and True) and (True == False) is:  False\n",
      "(not False) or (not True) is          :  True\n"
     ]
    }
   ],
   "source": [
    "print(\"4. What are the values of the following expressions?\")\n",
    "print(\"(5 > 4) and (3 == 5) is               : \",(5 > 4) and (3 == 5))\n",
    "print(\"not (5 > 4) is                        : \",not (5 > 4))\n",
    "print(\"(5 > 4) or (3 == 5) is                : \",(5 > 4) or (3 == 5))\n",
    "print(\"not ((5 > 4) or (3 == 5)) is          : \",not ((5 > 4) or (3 == 5)))\n",
    "print(\"(True and True) and (True == False) is: \",(True and True) and (True == False))\n",
    "print(\"(not False) or (not True) is          : \",(not False) or (not True))"
   ]
  },
  {
   "cell_type": "code",
   "execution_count": 5,
   "metadata": {},
   "outputs": [
    {
     "name": "stdout",
     "output_type": "stream",
     "text": [
      "5. What are the six comparison operators?\n",
      "Solution: Following are six comparison operators\n",
      "\n",
      "5 == 5 True\n",
      "5 != 5 False\n",
      "5 > 5  False\n",
      "5 < 5  False\n",
      "5 >= 5 True\n",
      "5 <= 5 True\n"
     ]
    }
   ],
   "source": [
    "print(\"5. What are the six comparison operators?\")\n",
    "print(\"Solution: Following are six comparison operators\\n\")\n",
    "print(\"5 == 5\", 5==5)\n",
    "print(\"5 != 5\", 5!=5)\n",
    "print(\"5 > 5 \", 5>5)\n",
    "print(\"5 < 5 \", 5<5)\n",
    "print(\"5 >= 5\", 5>=5)\n",
    "print(\"5 <= 5\", 5<=5)"
   ]
  },
  {
   "cell_type": "code",
   "execution_count": 6,
   "metadata": {},
   "outputs": [
    {
     "name": "stdout",
     "output_type": "stream",
     "text": [
      "6.How do you tell the difference between the equal to and assignment operators?Describe a condition and when you would use one.\n",
      "Solution : We will use 'assignment' operator for assiging some value to a variable. We will use 'equal to' comparison operator to check if two variables have same value or not\n",
      "a = 5 #Value 5 is assigned to variable a from previous statement\n",
      "a == 5 #using equal to operator to check if value of a is equal to 5 and the result is True\n"
     ]
    }
   ],
   "source": [
    "print(\"6.How do you tell the difference between the equal to and assignment operators?Describe a condition and when you would use one.\")\n",
    "print(\"Solution : We will use 'assignment' operator for assiging some value to a variable. We will use 'equal to' comparison operator to check if two variables have same value or not\")\n",
    "a=5 #assignment operator\n",
    "print(\"a =\",a,\"#Value 5 is assigned to variable a from previous statement\") #Value 5 is assigned to variable a from previous statement\n",
    "print(\"a == 5 #using equal to operator to check if value of a is equal to 5 and the result is\",a==5)"
   ]
  },
  {
   "cell_type": "code",
   "execution_count": 9,
   "metadata": {},
   "outputs": [
    {
     "name": "stdout",
     "output_type": "stream",
     "text": [
      "7. Identify the three blocks in this code:\n",
      "\n",
      "Solution: Please see comment in code wherever the block is identified\n",
      "\n",
      "ham\n",
      "spam\n",
      "spam\n"
     ]
    }
   ],
   "source": [
    "print(\"7. Identify the three blocks in this code:\")\n",
    "\n",
    "print(\"\\nSolution: Please see comment in code wherever the block is identified\\n\")\n",
    "spam = 0\n",
    "if spam == 10:\n",
    "    print('eggs') #Intendation is required and this is first block\n",
    "if spam > 5:\n",
    "    print('bacon') #Intendation is required and this is second block\n",
    "else:\n",
    "    print('ham')   #Intendation is required and this is third block\n",
    "    print('spam')  #Intendation is required and this is third block\n",
    "    print('spam')  #Intendation is required and this is third block"
   ]
  },
  {
   "cell_type": "code",
   "execution_count": 12,
   "metadata": {},
   "outputs": [
    {
     "name": "stdout",
     "output_type": "stream",
     "text": [
      "8. Write code that prints Hello if 1 is stored in spam, prints Howdy if 2 is stored in spam, and prints Greetings! if anything else is stored in spam.\n",
      "\n",
      "Solution:\n",
      "\n",
      "Enter any integer value :2\n",
      "Howdy\n"
     ]
    }
   ],
   "source": [
    "print(\"8. Write code that prints Hello if 1 is stored in spam, prints Howdy if 2 is stored in spam, and prints Greetings! if anything else is stored in spam.\\n\\nSolution:\\n\")\n",
    "spam=int(input(\"Enter any integer value :\"))\n",
    "if(spam == 1):\n",
    "    print(\"Hello\")\n",
    "elif(spam == 2):\n",
    "    print(\"Howdy\")\n",
    "else:\n",
    "    print(\"Greetings!\")"
   ]
  },
  {
   "cell_type": "code",
   "execution_count": 15,
   "metadata": {},
   "outputs": [
    {
     "name": "stdout",
     "output_type": "stream",
     "text": [
      "9.If your programme is stuck in an endless loop, what keys you’ll press?\n",
      "\n",
      "Solution: Ctrl+C can be used to come out of endless loop\n",
      "\n"
     ]
    }
   ],
   "source": [
    "print(\"9.If your programme is stuck in an endless loop, what keys you’ll press?\\n\\nSolution: Ctrl+C can be used to come out of endless loop\\n\")"
   ]
  },
  {
   "cell_type": "code",
   "execution_count": 20,
   "metadata": {},
   "outputs": [
    {
     "name": "stdout",
     "output_type": "stream",
     "text": [
      "10. How can you tell the difference between break and continue?\n",
      "\n",
      "Solution:\n",
      "\n",
      "Break statement when executed will make the control to exit the loop and executes the next statement outside of loop\n",
      "Example of break usage: \n",
      "The value of s is: string\n",
      "s\n",
      "t\n",
      "r\n",
      "Continue statement when executed will make the control not to exit the loop, and it skips the rest of the statements after continue statement within the loop and goes for next iteration\n",
      "break was initiated when loop iterated to value 'i'\n",
      "\n",
      "Example of continue usage: \n",
      "The value of s is: string\n",
      "s\n",
      "t\n",
      "r\n",
      "n\n",
      "g\n",
      "continue was initiated when loop iterated to value 'i' and hence 'i' was not printed and it went for next iteration\n"
     ]
    }
   ],
   "source": [
    "print(\"10. How can you tell the difference between break and continue?\\n\\nSolution:\\n\")\n",
    "print(\"Break statement when executed will make the control to exit the loop and executes the next statement outside of loop\")\n",
    "print(\"Example of break usage: \")\n",
    "s=\"string\"\n",
    "print(\"The value of s is:\",s)\n",
    "for k in s:\n",
    "    if k == \"i\":\n",
    "        break\n",
    "    print(k)\n",
    "print(\"Continue statement when executed will make the control not to exit the loop, and it skips the rest of the statements after continue statement within the loop and goes for next iteration\")\n",
    "print(\"break was initiated when loop iterated to value 'i'\")\n",
    "print(\"\\nExample of continue usage: \")\n",
    "s=\"string\"\n",
    "print(\"The value of s is:\",s)\n",
    "for k in s:\n",
    "    if k == \"i\":\n",
    "        continue\n",
    "    print(k)\n",
    "\n",
    "print(\"continue was initiated when loop iterated to value 'i' and hence 'i' was not printed and it went for next iteration\")"
   ]
  },
  {
   "cell_type": "code",
   "execution_count": 25,
   "metadata": {},
   "outputs": [
    {
     "name": "stdout",
     "output_type": "stream",
     "text": [
      "11. In a for loop, what is the difference between range(10), range(0, 10), and range(0, 10, 1)?\n",
      "\n",
      "Solution: There is no difference and using range(10), range(0, 10), or range(0, 10, 1) in for loop will print 0 to 9\n",
      "Using range(10): \n",
      "0\n",
      "1\n",
      "2\n",
      "3\n",
      "4\n",
      "5\n",
      "6\n",
      "7\n",
      "8\n",
      "9\n",
      "Using range(0,10): \n",
      "0\n",
      "1\n",
      "2\n",
      "3\n",
      "4\n",
      "5\n",
      "6\n",
      "7\n",
      "8\n",
      "9\n",
      "Using range(0,10,1): \n",
      "0\n",
      "1\n",
      "2\n",
      "3\n",
      "4\n",
      "5\n",
      "6\n",
      "7\n",
      "8\n",
      "9\n"
     ]
    }
   ],
   "source": [
    "print(\"11. In a for loop, what is the difference between range(10), range(0, 10), and range(0, 10, 1)?\\n\\nSolution: There is no difference and using range(10), range(0, 10), or range(0, 10, 1) in for loop will print 0 to 9\")\n",
    "print(\"Using range(10): \")\n",
    "for i in range(10): print(i)\n",
    "print(\"Using range(0,10): \")\n",
    "for i in range(0,10): print(i)\n",
    "print(\"Using range(0,10,1): \")\n",
    "for i in range(0,10,1): print(i)"
   ]
  },
  {
   "cell_type": "code",
   "execution_count": 35,
   "metadata": {},
   "outputs": [
    {
     "name": "stdout",
     "output_type": "stream",
     "text": [
      "12. Write a short program that prints the numbers 1 to 10 using a for loop. Then write an equivalent program that prints the numbers 1 to 10 using a while loop.\n",
      "Solution:\n",
      "\n",
      "Printing 1 to 10 using for loop: \n",
      "1\n",
      "2\n",
      "3\n",
      "4\n",
      "5\n",
      "6\n",
      "7\n",
      "8\n",
      "9\n",
      "10\n",
      "\n",
      "Printing 1 to 10 using while loop: \n",
      "1\n",
      "2\n",
      "3\n",
      "4\n",
      "5\n",
      "6\n",
      "7\n",
      "8\n",
      "9\n",
      "10\n"
     ]
    }
   ],
   "source": [
    "print(\"12. Write a short program that prints the numbers 1 to 10 using a for loop. Then write an equivalent program that prints the numbers 1 to 10 using a while loop.\\nSolution:\\n\")\n",
    "print(\"Printing 1 to 10 using for loop: \")\n",
    "for i in range(1,11,1): print(i)\n",
    "print(\"\\nPrinting 1 to 10 using while loop: \")\n",
    "k=1\n",
    "while k<=10: \n",
    "    print(k)\n",
    "    k += 1"
   ]
  },
  {
   "cell_type": "code",
   "execution_count": 39,
   "metadata": {},
   "outputs": [
    {
     "name": "stdout",
     "output_type": "stream",
     "text": [
      "13. If you had a function named bacon() inside a module named spam, how would you call it after importing spam?\n",
      "Solution:\n",
      "\n",
      "The function bacon() from spam module can be called using following statements:\n",
      "\n",
      "import spam\n",
      "spam.bacon()\n"
     ]
    }
   ],
   "source": [
    "print(\"13. If you had a function named bacon() inside a module named spam, how would you call it after importing spam?\\nSolution:\\n\")\n",
    "print(\"The function bacon() from spam module can be called using following statements:\\n\")\n",
    "print(\"import spam\")\n",
    "print(\"spam.bacon()\")"
   ]
  }
 ],
 "metadata": {
  "kernelspec": {
   "display_name": "Python 3",
   "language": "python",
   "name": "python3"
  },
  "language_info": {
   "codemirror_mode": {
    "name": "ipython",
    "version": 3
   },
   "file_extension": ".py",
   "mimetype": "text/x-python",
   "name": "python",
   "nbconvert_exporter": "python",
   "pygments_lexer": "ipython3",
   "version": "3.7.4"
  }
 },
 "nbformat": 4,
 "nbformat_minor": 2
}
